{
 "cells": [
  {
   "cell_type": "markdown",
   "id": "2fdc03b9-8037-40cb-813d-eb928c2d32ea",
   "metadata": {},
   "source": [
    "# This is a tutorial to show how to find potential RBP complexes with CLIP peaks.\n",
    "- Assumption: RBPs forming complex will bind overlapping places in the genome\n",
    "- How to quantify \"overlap\"? Jaccard Index/similarity\n",
    "    - [Link](https://www.learndatasci.com/glossary/jaccard-similarity/)\n",
    "- Plan:\n",
    "    - For each pair of RBP, we are going to calculate their jaccard index to measure how similar their binding site is\n",
    "    - Then use a clustermap to show clusters of RBP binding similar places.\n",
    "- Implementation detail:\n",
    "    - We have CLIPped >400 eCLIP, which means we will be computing > 79800 combinations [n choose k calculator](https://www.hackmath.net/en/calculator/n-choose-k?n=400&k=2&order=0&repeat=0)\n",
    "    - To save time this tutorial we will pick a small subset to practice.\n",
    "    - I will show two method to harness of power of parallel computation, instead of doing lots of for loops\n",
    "        - snakemake: use multiple nodes to send out jobs.\n",
    "        - scipy and numpy package is naturally multi-thread.\n",
    "    - Here are two senarios:\n",
    "        1. All CLIPs were processed with the same skipper annotations, such that window ID \"1\" always refer to the same genomic interval. This way we can compile a huge binary matrix where is (n_windows)*(n_rbps) and use `scipy` to calculate jaccard distance.\n",
    "        2. Some CLIPs were processe with different skipper annotation: we will need `bedtools` to evaluate the overlap.\n",
    "\n",
    "## Scenario 1: All CLIPs were process with the same annotation"
   ]
  },
  {
   "cell_type": "code",
   "execution_count": 1,
   "id": "d6cbed03-7196-4b4e-b433-7d1f742ca599",
   "metadata": {
    "tags": []
   },
   "outputs": [],
   "source": [
    "# this is a package to help you write paths elegantly in python\n",
    "from pathlib import Path\n",
    "skipper_dir = Path('/projects/ps-yeolab3/eboyle/encode/pipeline/05_20220720/20220728_encode3/k562/output/reproducible_enriched_windows')\n",
    "rbps_to_include = list(skipper_dir.glob('SF3B*')\n",
    "                )+list(skipper_dir.glob('FXR*')\n",
    "                )+list(skipper_dir.glob('FMR*')\n",
    "                )+list(skipper_dir.glob('IGF*'))\n"
   ]
  },
  {
   "cell_type": "code",
   "execution_count": 2,
   "id": "51bd3edb-f072-49ba-a535-113ab80db1af",
   "metadata": {
    "tags": []
   },
   "outputs": [
    {
     "data": {
      "text/plain": [
       "[PosixPath('/projects/ps-yeolab3/eboyle/encode/pipeline/05_20220720/20220728_encode3/k562/output/reproducible_enriched_windows/SF3B4_K562.reproducible_enriched_windows.tsv.gz'),\n",
       " PosixPath('/projects/ps-yeolab3/eboyle/encode/pipeline/05_20220720/20220728_encode3/k562/output/reproducible_enriched_windows/SF3B1_K562.reproducible_enriched_windows.tsv.gz'),\n",
       " PosixPath('/projects/ps-yeolab3/eboyle/encode/pipeline/05_20220720/20220728_encode3/k562/output/reproducible_enriched_windows/FXR2_K562.reproducible_enriched_windows.tsv.gz'),\n",
       " PosixPath('/projects/ps-yeolab3/eboyle/encode/pipeline/05_20220720/20220728_encode3/k562/output/reproducible_enriched_windows/FXR1_K562.reproducible_enriched_windows.tsv.gz'),\n",
       " PosixPath('/projects/ps-yeolab3/eboyle/encode/pipeline/05_20220720/20220728_encode3/k562/output/reproducible_enriched_windows/FMR1_K562.reproducible_enriched_windows.tsv.gz'),\n",
       " PosixPath('/projects/ps-yeolab3/eboyle/encode/pipeline/05_20220720/20220728_encode3/k562/output/reproducible_enriched_windows/IGF2BP2_K562.reproducible_enriched_windows.tsv.gz'),\n",
       " PosixPath('/projects/ps-yeolab3/eboyle/encode/pipeline/05_20220720/20220728_encode3/k562/output/reproducible_enriched_windows/IGF2BP1_K562.reproducible_enriched_windows.tsv.gz')]"
      ]
     },
     "execution_count": 2,
     "metadata": {},
     "output_type": "execute_result"
    }
   ],
   "source": [
    "rbps_to_include"
   ]
  },
  {
   "cell_type": "code",
   "execution_count": 3,
   "id": "bb5701ce-7777-4556-bd56-1853b5be1875",
   "metadata": {
    "tags": []
   },
   "outputs": [],
   "source": [
    "# let's look at 1 output\n",
    "import pandas as pd\n",
    "df = pd.read_csv(rbps_to_include[0], sep = '\\t')"
   ]
  },
  {
   "cell_type": "code",
   "execution_count": 4,
   "id": "97f4dae6-8d95-4104-8a39-9f5072e9b263",
   "metadata": {
    "tags": []
   },
   "outputs": [
    {
     "data": {
      "text/html": [
       "<div>\n",
       "<style scoped>\n",
       "    .dataframe tbody tr th:only-of-type {\n",
       "        vertical-align: middle;\n",
       "    }\n",
       "\n",
       "    .dataframe tbody tr th {\n",
       "        vertical-align: top;\n",
       "    }\n",
       "\n",
       "    .dataframe thead th {\n",
       "        text-align: right;\n",
       "    }\n",
       "</style>\n",
       "<table border=\"1\" class=\"dataframe\">\n",
       "  <thead>\n",
       "    <tr style=\"text-align: right;\">\n",
       "      <th></th>\n",
       "      <th>chr</th>\n",
       "      <th>start</th>\n",
       "      <th>end</th>\n",
       "      <th>name</th>\n",
       "      <th>score</th>\n",
       "      <th>strand</th>\n",
       "      <th>gc</th>\n",
       "      <th>gc_bin</th>\n",
       "      <th>chrom</th>\n",
       "      <th>feature_id</th>\n",
       "      <th>...</th>\n",
       "      <th>input_sum</th>\n",
       "      <th>clip_sum</th>\n",
       "      <th>enrichment_n</th>\n",
       "      <th>enrichment_l2or_min</th>\n",
       "      <th>enrichment_l2or_mean</th>\n",
       "      <th>enrichment_l2or_max</th>\n",
       "      <th>p_max</th>\n",
       "      <th>p_min</th>\n",
       "      <th>q_max</th>\n",
       "      <th>q_min</th>\n",
       "    </tr>\n",
       "  </thead>\n",
       "  <tbody>\n",
       "    <tr>\n",
       "      <th>0</th>\n",
       "      <td>chrX</td>\n",
       "      <td>72376978</td>\n",
       "      <td>72377073</td>\n",
       "      <td>5847366</td>\n",
       "      <td>0</td>\n",
       "      <td>-</td>\n",
       "      <td>0.494737</td>\n",
       "      <td>(0.49,0.53]</td>\n",
       "      <td>chrX</td>\n",
       "      <td>634540</td>\n",
       "      <td>...</td>\n",
       "      <td>14</td>\n",
       "      <td>11888</td>\n",
       "      <td>2</td>\n",
       "      <td>10.52140</td>\n",
       "      <td>10.816550</td>\n",
       "      <td>11.11170</td>\n",
       "      <td>1.000000e-12</td>\n",
       "      <td>1.000000e-12</td>\n",
       "      <td>1.243100e-09</td>\n",
       "      <td>6.724260e-10</td>\n",
       "    </tr>\n",
       "    <tr>\n",
       "      <th>1</th>\n",
       "      <td>chr1</td>\n",
       "      <td>52754321</td>\n",
       "      <td>52754391</td>\n",
       "      <td>80054</td>\n",
       "      <td>0</td>\n",
       "      <td>+</td>\n",
       "      <td>0.300000</td>\n",
       "      <td>(0.29,0.323]</td>\n",
       "      <td>chr1</td>\n",
       "      <td>11338</td>\n",
       "      <td>...</td>\n",
       "      <td>0</td>\n",
       "      <td>392</td>\n",
       "      <td>2</td>\n",
       "      <td>9.38025</td>\n",
       "      <td>9.844075</td>\n",
       "      <td>10.30790</td>\n",
       "      <td>1.000000e-12</td>\n",
       "      <td>1.000000e-12</td>\n",
       "      <td>1.243100e-09</td>\n",
       "      <td>6.724260e-10</td>\n",
       "    </tr>\n",
       "    <tr>\n",
       "      <th>2</th>\n",
       "      <td>chr6</td>\n",
       "      <td>116712332</td>\n",
       "      <td>116712431</td>\n",
       "      <td>2159645</td>\n",
       "      <td>0</td>\n",
       "      <td>+</td>\n",
       "      <td>0.363636</td>\n",
       "      <td>(0.354,0.384]</td>\n",
       "      <td>chr6</td>\n",
       "      <td>219588</td>\n",
       "      <td>...</td>\n",
       "      <td>0</td>\n",
       "      <td>311</td>\n",
       "      <td>2</td>\n",
       "      <td>9.15933</td>\n",
       "      <td>9.491675</td>\n",
       "      <td>9.82402</td>\n",
       "      <td>1.000000e-12</td>\n",
       "      <td>1.000000e-12</td>\n",
       "      <td>1.243100e-09</td>\n",
       "      <td>6.724260e-10</td>\n",
       "    </tr>\n",
       "    <tr>\n",
       "      <th>3</th>\n",
       "      <td>chr1</td>\n",
       "      <td>180796715</td>\n",
       "      <td>180796814</td>\n",
       "      <td>211517</td>\n",
       "      <td>0</td>\n",
       "      <td>+</td>\n",
       "      <td>0.323232</td>\n",
       "      <td>(0.29,0.323]</td>\n",
       "      <td>chr1</td>\n",
       "      <td>25658</td>\n",
       "      <td>...</td>\n",
       "      <td>0</td>\n",
       "      <td>295</td>\n",
       "      <td>2</td>\n",
       "      <td>9.09123</td>\n",
       "      <td>9.466050</td>\n",
       "      <td>9.84087</td>\n",
       "      <td>1.000000e-12</td>\n",
       "      <td>1.000000e-12</td>\n",
       "      <td>1.243100e-09</td>\n",
       "      <td>6.724260e-10</td>\n",
       "    </tr>\n",
       "    <tr>\n",
       "      <th>4</th>\n",
       "      <td>chr13</td>\n",
       "      <td>20612196</td>\n",
       "      <td>20612296</td>\n",
       "      <td>4045519</td>\n",
       "      <td>0</td>\n",
       "      <td>+</td>\n",
       "      <td>0.410000</td>\n",
       "      <td>(0.384,0.416]</td>\n",
       "      <td>chr13</td>\n",
       "      <td>414968</td>\n",
       "      <td>...</td>\n",
       "      <td>6</td>\n",
       "      <td>1464</td>\n",
       "      <td>2</td>\n",
       "      <td>9.10101</td>\n",
       "      <td>9.343000</td>\n",
       "      <td>9.58499</td>\n",
       "      <td>1.000000e-12</td>\n",
       "      <td>1.000000e-12</td>\n",
       "      <td>1.243100e-09</td>\n",
       "      <td>6.724260e-10</td>\n",
       "    </tr>\n",
       "  </tbody>\n",
       "</table>\n",
       "<p>5 rows × 30 columns</p>\n",
       "</div>"
      ],
      "text/plain": [
       "     chr      start        end     name  score strand        gc  \\\n",
       "0   chrX   72376978   72377073  5847366      0      -  0.494737   \n",
       "1   chr1   52754321   52754391    80054      0      +  0.300000   \n",
       "2   chr6  116712332  116712431  2159645      0      +  0.363636   \n",
       "3   chr1  180796715  180796814   211517      0      +  0.323232   \n",
       "4  chr13   20612196   20612296  4045519      0      +  0.410000   \n",
       "\n",
       "          gc_bin  chrom  feature_id  ...  input_sum clip_sum enrichment_n  \\\n",
       "0    (0.49,0.53]   chrX      634540  ...         14    11888            2   \n",
       "1   (0.29,0.323]   chr1       11338  ...          0      392            2   \n",
       "2  (0.354,0.384]   chr6      219588  ...          0      311            2   \n",
       "3   (0.29,0.323]   chr1       25658  ...          0      295            2   \n",
       "4  (0.384,0.416]  chr13      414968  ...          6     1464            2   \n",
       "\n",
       "  enrichment_l2or_min enrichment_l2or_mean enrichment_l2or_max         p_max  \\\n",
       "0            10.52140            10.816550            11.11170  1.000000e-12   \n",
       "1             9.38025             9.844075            10.30790  1.000000e-12   \n",
       "2             9.15933             9.491675             9.82402  1.000000e-12   \n",
       "3             9.09123             9.466050             9.84087  1.000000e-12   \n",
       "4             9.10101             9.343000             9.58499  1.000000e-12   \n",
       "\n",
       "          p_min         q_max         q_min  \n",
       "0  1.000000e-12  1.243100e-09  6.724260e-10  \n",
       "1  1.000000e-12  1.243100e-09  6.724260e-10  \n",
       "2  1.000000e-12  1.243100e-09  6.724260e-10  \n",
       "3  1.000000e-12  1.243100e-09  6.724260e-10  \n",
       "4  1.000000e-12  1.243100e-09  6.724260e-10  \n",
       "\n",
       "[5 rows x 30 columns]"
      ]
     },
     "execution_count": 4,
     "metadata": {},
     "output_type": "execute_result"
    }
   ],
   "source": [
    "df.head() # name is the \"window ID\""
   ]
  },
  {
   "cell_type": "code",
   "execution_count": 5,
   "id": "28e0955a-9f5a-45b6-909b-b3dd72c95325",
   "metadata": {
    "tags": []
   },
   "outputs": [
    {
     "data": {
      "text/plain": [
       "0.199919"
      ]
     },
     "execution_count": 5,
     "metadata": {},
     "output_type": "execute_result"
    }
   ],
   "source": [
    "df['q_max'].max() # all windows in the file is significant"
   ]
  },
  {
   "cell_type": "code",
   "execution_count": 6,
   "id": "ccf1b97a-132a-4e82-aa22-abdd01577f91",
   "metadata": {
    "tags": []
   },
   "outputs": [],
   "source": [
    "# construct the (n_windows)*(n_rbps) binary matrix\n",
    "# this is called \"list comprehension\" which is a lazy way to write for loops.\n",
    "binary_matrix = ~pd.concat(\n",
    "                [pd.read_csv(f, sep = '\\t').set_index('name')['q_max'] for f in rbps_to_include], # list comprehension\n",
    "                axis = 1).isnull() # not null means not nan\n",
    "binary_matrix.columns = [f.name.split('.')[0] for f in rbps_to_include]"
   ]
  },
  {
   "cell_type": "code",
   "execution_count": 7,
   "id": "1220091c-c11f-4c0d-abc4-a2496af2ec79",
   "metadata": {
    "tags": []
   },
   "outputs": [
    {
     "data": {
      "text/html": [
       "<div>\n",
       "<style scoped>\n",
       "    .dataframe tbody tr th:only-of-type {\n",
       "        vertical-align: middle;\n",
       "    }\n",
       "\n",
       "    .dataframe tbody tr th {\n",
       "        vertical-align: top;\n",
       "    }\n",
       "\n",
       "    .dataframe thead th {\n",
       "        text-align: right;\n",
       "    }\n",
       "</style>\n",
       "<table border=\"1\" class=\"dataframe\">\n",
       "  <thead>\n",
       "    <tr style=\"text-align: right;\">\n",
       "      <th></th>\n",
       "      <th>SF3B4_K562</th>\n",
       "      <th>SF3B1_K562</th>\n",
       "      <th>FXR2_K562</th>\n",
       "      <th>FXR1_K562</th>\n",
       "      <th>FMR1_K562</th>\n",
       "      <th>IGF2BP2_K562</th>\n",
       "      <th>IGF2BP1_K562</th>\n",
       "    </tr>\n",
       "    <tr>\n",
       "      <th>name</th>\n",
       "      <th></th>\n",
       "      <th></th>\n",
       "      <th></th>\n",
       "      <th></th>\n",
       "      <th></th>\n",
       "      <th></th>\n",
       "      <th></th>\n",
       "    </tr>\n",
       "  </thead>\n",
       "  <tbody>\n",
       "    <tr>\n",
       "      <th>5847366</th>\n",
       "      <td>True</td>\n",
       "      <td>True</td>\n",
       "      <td>False</td>\n",
       "      <td>False</td>\n",
       "      <td>False</td>\n",
       "      <td>False</td>\n",
       "      <td>False</td>\n",
       "    </tr>\n",
       "    <tr>\n",
       "      <th>80054</th>\n",
       "      <td>True</td>\n",
       "      <td>False</td>\n",
       "      <td>False</td>\n",
       "      <td>False</td>\n",
       "      <td>True</td>\n",
       "      <td>False</td>\n",
       "      <td>False</td>\n",
       "    </tr>\n",
       "    <tr>\n",
       "      <th>2159645</th>\n",
       "      <td>True</td>\n",
       "      <td>False</td>\n",
       "      <td>False</td>\n",
       "      <td>False</td>\n",
       "      <td>False</td>\n",
       "      <td>False</td>\n",
       "      <td>False</td>\n",
       "    </tr>\n",
       "    <tr>\n",
       "      <th>211517</th>\n",
       "      <td>True</td>\n",
       "      <td>False</td>\n",
       "      <td>False</td>\n",
       "      <td>False</td>\n",
       "      <td>False</td>\n",
       "      <td>False</td>\n",
       "      <td>False</td>\n",
       "    </tr>\n",
       "    <tr>\n",
       "      <th>4045519</th>\n",
       "      <td>True</td>\n",
       "      <td>False</td>\n",
       "      <td>False</td>\n",
       "      <td>False</td>\n",
       "      <td>False</td>\n",
       "      <td>False</td>\n",
       "      <td>False</td>\n",
       "    </tr>\n",
       "  </tbody>\n",
       "</table>\n",
       "</div>"
      ],
      "text/plain": [
       "         SF3B4_K562  SF3B1_K562  FXR2_K562  FXR1_K562  FMR1_K562  \\\n",
       "name                                                               \n",
       "5847366        True        True      False      False      False   \n",
       "80054          True       False      False      False       True   \n",
       "2159645        True       False      False      False      False   \n",
       "211517         True       False      False      False      False   \n",
       "4045519        True       False      False      False      False   \n",
       "\n",
       "         IGF2BP2_K562  IGF2BP1_K562  \n",
       "name                                 \n",
       "5847366         False         False  \n",
       "80054           False         False  \n",
       "2159645         False         False  \n",
       "211517          False         False  \n",
       "4045519         False         False  "
      ]
     },
     "execution_count": 7,
     "metadata": {},
     "output_type": "execute_result"
    }
   ],
   "source": [
    "binary_matrix.head() # this is what we want"
   ]
  },
  {
   "cell_type": "code",
   "execution_count": 8,
   "id": "69519f36-1e8a-49ed-aff2-a85e74441c2b",
   "metadata": {
    "tags": []
   },
   "outputs": [],
   "source": [
    "# or the for loop does the same\n",
    "all_binary_vectors = []\n",
    "for f in rbps_to_include:\n",
    "    df = pd.read_csv(f, sep = '\\t')\n",
    "    rbp_name = f.name.split('.')[0]\n",
    "    df[rbp_name]=True # record these window are bound by RBP\n",
    "    is_bound = df.set_index('name')[rbp_name]\n",
    "    all_binary_vectors.append(is_bound)\n",
    "binary_matrix_from_for_loop = pd.concat(all_binary_vectors, axis = 1).fillna(False)"
   ]
  },
  {
   "cell_type": "code",
   "execution_count": 9,
   "id": "d2699b85-f7d7-4c7b-826f-47f755f6a55e",
   "metadata": {
    "tags": []
   },
   "outputs": [
    {
     "data": {
      "text/plain": [
       "True"
      ]
     },
     "execution_count": 9,
     "metadata": {},
     "output_type": "execute_result"
    }
   ],
   "source": [
    "binary_matrix_from_for_loop.eq(binary_matrix).all().all() # it is all the same"
   ]
  },
  {
   "cell_type": "code",
   "execution_count": 10,
   "id": "9415476b-6f8d-46cc-8f30-239306193e86",
   "metadata": {
    "tags": []
   },
   "outputs": [],
   "source": [
    "# let's do the thing\n",
    "from scipy.spatial.distance import pdist, squareform\n",
    "import seaborn as sns\n",
    "# the function\n",
    "def compute_jaccard_index(identity_tbl):\n",
    "    ''' identity tbl: pd.DataFrame where each row is a window, each column is a RBP \n",
    "    values should be True/False where True means it is a binding site for a RBP\n",
    "    '''\n",
    "\n",
    "    d_condense = pdist(identity_tbl.T, 'jaccard') # lazy way to compute pairwise distance in a matrix\n",
    "    d = pd.DataFrame(1-squareform(d_condense), # jaccard similarity = 1-jaccard \"distance\"\n",
    "                     index = identity_tbl.columns, columns = identity_tbl.columns)\n",
    "    return d\n"
   ]
  },
  {
   "cell_type": "code",
   "execution_count": 11,
   "id": "f4886926-8626-4f2a-a276-97ede533a28a",
   "metadata": {
    "tags": []
   },
   "outputs": [],
   "source": [
    "jaccard = compute_jaccard_index(binary_matrix)"
   ]
  },
  {
   "cell_type": "code",
   "execution_count": 12,
   "id": "ad39d941-58a6-4c46-a0cd-589f3b2bca06",
   "metadata": {
    "tags": []
   },
   "outputs": [
    {
     "data": {
      "text/html": [
       "<div>\n",
       "<style scoped>\n",
       "    .dataframe tbody tr th:only-of-type {\n",
       "        vertical-align: middle;\n",
       "    }\n",
       "\n",
       "    .dataframe tbody tr th {\n",
       "        vertical-align: top;\n",
       "    }\n",
       "\n",
       "    .dataframe thead th {\n",
       "        text-align: right;\n",
       "    }\n",
       "</style>\n",
       "<table border=\"1\" class=\"dataframe\">\n",
       "  <thead>\n",
       "    <tr style=\"text-align: right;\">\n",
       "      <th></th>\n",
       "      <th>SF3B4_K562</th>\n",
       "      <th>SF3B1_K562</th>\n",
       "      <th>FXR2_K562</th>\n",
       "      <th>FXR1_K562</th>\n",
       "      <th>FMR1_K562</th>\n",
       "      <th>IGF2BP2_K562</th>\n",
       "      <th>IGF2BP1_K562</th>\n",
       "    </tr>\n",
       "  </thead>\n",
       "  <tbody>\n",
       "    <tr>\n",
       "      <th>SF3B4_K562</th>\n",
       "      <td>1.000000</td>\n",
       "      <td>0.000522</td>\n",
       "      <td>0.010032</td>\n",
       "      <td>0.008631</td>\n",
       "      <td>0.011671</td>\n",
       "      <td>0.010219</td>\n",
       "      <td>0.010937</td>\n",
       "    </tr>\n",
       "    <tr>\n",
       "      <th>SF3B1_K562</th>\n",
       "      <td>0.000522</td>\n",
       "      <td>1.000000</td>\n",
       "      <td>0.000000</td>\n",
       "      <td>0.000000</td>\n",
       "      <td>0.000000</td>\n",
       "      <td>0.000000</td>\n",
       "      <td>0.000000</td>\n",
       "    </tr>\n",
       "    <tr>\n",
       "      <th>FXR2_K562</th>\n",
       "      <td>0.010032</td>\n",
       "      <td>0.000000</td>\n",
       "      <td>1.000000</td>\n",
       "      <td>0.283689</td>\n",
       "      <td>0.372985</td>\n",
       "      <td>0.043178</td>\n",
       "      <td>0.031672</td>\n",
       "    </tr>\n",
       "    <tr>\n",
       "      <th>FXR1_K562</th>\n",
       "      <td>0.008631</td>\n",
       "      <td>0.000000</td>\n",
       "      <td>0.283689</td>\n",
       "      <td>1.000000</td>\n",
       "      <td>0.207544</td>\n",
       "      <td>0.037482</td>\n",
       "      <td>0.035384</td>\n",
       "    </tr>\n",
       "    <tr>\n",
       "      <th>FMR1_K562</th>\n",
       "      <td>0.011671</td>\n",
       "      <td>0.000000</td>\n",
       "      <td>0.372985</td>\n",
       "      <td>0.207544</td>\n",
       "      <td>1.000000</td>\n",
       "      <td>0.051355</td>\n",
       "      <td>0.038935</td>\n",
       "    </tr>\n",
       "  </tbody>\n",
       "</table>\n",
       "</div>"
      ],
      "text/plain": [
       "            SF3B4_K562  SF3B1_K562  FXR2_K562  FXR1_K562  FMR1_K562  \\\n",
       "SF3B4_K562    1.000000    0.000522   0.010032   0.008631   0.011671   \n",
       "SF3B1_K562    0.000522    1.000000   0.000000   0.000000   0.000000   \n",
       "FXR2_K562     0.010032    0.000000   1.000000   0.283689   0.372985   \n",
       "FXR1_K562     0.008631    0.000000   0.283689   1.000000   0.207544   \n",
       "FMR1_K562     0.011671    0.000000   0.372985   0.207544   1.000000   \n",
       "\n",
       "            IGF2BP2_K562  IGF2BP1_K562  \n",
       "SF3B4_K562      0.010219      0.010937  \n",
       "SF3B1_K562      0.000000      0.000000  \n",
       "FXR2_K562       0.043178      0.031672  \n",
       "FXR1_K562       0.037482      0.035384  \n",
       "FMR1_K562       0.051355      0.038935  "
      ]
     },
     "execution_count": 12,
     "metadata": {},
     "output_type": "execute_result"
    }
   ],
   "source": [
    "jaccard.head()"
   ]
  },
  {
   "cell_type": "code",
   "execution_count": 13,
   "id": "e1bbe906-caf2-4cf3-8d14-345ebc64a31b",
   "metadata": {
    "tags": []
   },
   "outputs": [
    {
     "data": {
      "text/plain": [
       "<seaborn.matrix.ClusterGrid at 0x2b7b9b75c880>"
      ]
     },
     "execution_count": 13,
     "metadata": {},
     "output_type": "execute_result"
    },
    {
     "data": {
      "image/png": "[encoded data removed]",
      "text/plain": [
       "<Figure size 216x216 with 4 Axes>"
      ]
     },
     "metadata": {
      "needs_background": "light"
     },
     "output_type": "display_data"
    }
   ],
   "source": [
    "# plot it\n",
    "sns.clustermap(jaccard, cmap = 'Greys', figsize = (3,3))"
   ]
  },
  {
   "cell_type": "markdown",
   "id": "58b535ff-1b7f-49af-bd03-35abe260b7b2",
   "metadata": {},
   "source": [
    "### practice \n",
    "- Can you quantify jaccard index in 3'UTR regions only/5'UTR regions...etc. Modify the code to do so\n",
    "\n",
    "## Scenario 2: Not all CLIPs were processed with the same annotation\n",
    "- we will include some HepG2 clips as an example. These CLIPs were processed using different windows therefore window ID 5678 might mean different genomic interval in HepG2 and K562.\n",
    "- we will use snakemake to parallel submit jobs. It the same as what you did with `qsub something.sh` but more elegant.\n",
    "- What is snakemake\n",
    "    - a pipeline language\n",
    "    - what is a pipeline? doing 1 step after another all the end until you get all you want. \n",
    "        - trim adapter -> trim UMI -> map read -> count reads -> call peaks\n",
    "        - call peaks -> call motif\n",
    "        - call peaks -> quantify bindin in each region\n",
    "        - trim adapter -> map reads -> featureCount -> DeSeq -> plot volcano\n",
    "        - trim adapter -> map reads -> rMATs -> RBPmaps\n",
    "        - skipper reproducible windows -> format into bed -> calculate jaccard using bedtool\n",
    "    - Why End-to-end pipelines:\n",
    "        - avoid manually sending jobs for each step makes your workflow reproducible.\n",
    "        - avoid manually naming stuffs in output/input to avoid typo and then renaming/moving stuffs\n",
    "        - Automate as much as possible such that you don't have to \"spend time\" computing. Computers do the thing.\n",
    "        - Write it once, use it many times\n",
    "        - Easy transfer to collaborators and colleagues. (one more step needed, containerize)\n",
    "    - [snakemake tutorial](https://snakemake.readthedocs.io/en/stable/).\n",
    "    - snakemake offers a way to format shell commands and inject \"sample names\" into the input/output\n",
    "        - these are called \"wildcards\", things in squarely brackets \"{sample_name}.peaks.bed\".\n",
    "    - you can also run inline python in snakemake files\n",
    "- Go to `jaccard.smk` to see implementation\n",
    "    - always run snakemake in an interactive session: `qsub -I -q home-yeo -l nodes=1:ppn=1 -l walltime=2:00:00`\n",
    "    - `module load snakemake`\n",
    "    - `snakemake -s jaccard.smk -n`. `-n` for dry run\n",
    "    - `snakemake -s jaccard.smk -j 5`: run 5 jobs at most at a time \"multithreading\"\n",
    "    - `snakemake -s jaccard.smk -j 5 output/FXR1_K562.FXR2_K562.jaccard.txt`: we will try one output \"FXR1_K562.FXR2_K562.jaccard.txt\"\n",
    "- Now we decorate the rules to make it `qsub` each job to different nodes:\n",
    "    - see `jaccard-decorate.smk`\n",
    "    - \"params\", recording the qsub parameters, where to put error files, stdout and number of cores, how many minutes to run\n",
    "    - now:\n",
    "        ```\n",
    "        snakemake -s jaccard-decorate.smk \\\n",
    "                -j 3 \\\n",
    "                --cluster \"qsub -l walltime={params.run_time} -l nodes=1:ppn={params.cores} -q home-yeo -e {params.error_out_file} -o {params.out_file}\"\n",
    "        ```\n",
    "- How to debug in snakemake"
   ]
  },
  {
   "cell_type": "code",
   "execution_count": 14,
   "id": "28572e0b-ab2a-495d-865c-2ee19ff4bcaf",
   "metadata": {
    "tags": []
   },
   "outputs": [],
   "source": [
    "# these are from the snakemake\n",
    "jaccard_files = list(Path('output/').glob('*.jaccard.txt'))\n",
    "jaccard_values = [pd.read_csv(f, sep = '\\t')['jaccard'].values[0] for f in jaccard_files]\n",
    "sample_ones = [f.name.split('.')[0] for f in jaccard_files]\n",
    "sample_twos = [f.name.split('.')[1] for f in jaccard_files]\n",
    "\n",
    "jaccard_data = pd.DataFrame([sample_ones, sample_twos, jaccard_values], index = ['rbp1', 'rbp2', 'jaccard']).T"
   ]
  },
  {
   "cell_type": "code",
   "execution_count": 15,
   "id": "e516f72c-1922-4022-a10a-1c364d5de19d",
   "metadata": {
    "tags": []
   },
   "outputs": [
    {
     "data": {
      "text/html": [
       "<div>\n",
       "<style scoped>\n",
       "    .dataframe tbody tr th:only-of-type {\n",
       "        vertical-align: middle;\n",
       "    }\n",
       "\n",
       "    .dataframe tbody tr th {\n",
       "        vertical-align: top;\n",
       "    }\n",
       "\n",
       "    .dataframe thead th {\n",
       "        text-align: right;\n",
       "    }\n",
       "</style>\n",
       "<table border=\"1\" class=\"dataframe\">\n",
       "  <thead>\n",
       "    <tr style=\"text-align: right;\">\n",
       "      <th></th>\n",
       "      <th>rbp1</th>\n",
       "      <th>rbp2</th>\n",
       "      <th>jaccard</th>\n",
       "    </tr>\n",
       "  </thead>\n",
       "  <tbody>\n",
       "    <tr>\n",
       "      <th>0</th>\n",
       "      <td>FXR1_K562</td>\n",
       "      <td>IGF2BP1_K562</td>\n",
       "      <td>0.026089</td>\n",
       "    </tr>\n",
       "    <tr>\n",
       "      <th>1</th>\n",
       "      <td>FXR1_K562</td>\n",
       "      <td>FXR2_K562</td>\n",
       "      <td>0.241598</td>\n",
       "    </tr>\n",
       "    <tr>\n",
       "      <th>2</th>\n",
       "      <td>FXR1_K562</td>\n",
       "      <td>FMR1_K562</td>\n",
       "      <td>0.174349</td>\n",
       "    </tr>\n",
       "    <tr>\n",
       "      <th>3</th>\n",
       "      <td>IGF2BP2_K562</td>\n",
       "      <td>FXR2_HepG2</td>\n",
       "      <td>0.034581</td>\n",
       "    </tr>\n",
       "    <tr>\n",
       "      <th>4</th>\n",
       "      <td>SF3B1_K562</td>\n",
       "      <td>IGF2BP2_K562</td>\n",
       "      <td>0</td>\n",
       "    </tr>\n",
       "  </tbody>\n",
       "</table>\n",
       "</div>"
      ],
      "text/plain": [
       "           rbp1          rbp2   jaccard\n",
       "0     FXR1_K562  IGF2BP1_K562  0.026089\n",
       "1     FXR1_K562     FXR2_K562  0.241598\n",
       "2     FXR1_K562     FMR1_K562  0.174349\n",
       "3  IGF2BP2_K562    FXR2_HepG2  0.034581\n",
       "4    SF3B1_K562  IGF2BP2_K562         0"
      ]
     },
     "execution_count": 15,
     "metadata": {},
     "output_type": "execute_result"
    }
   ],
   "source": [
    "jaccard_data.head()"
   ]
  },
  {
   "cell_type": "code",
   "execution_count": 16,
   "id": "4412dee0-b05d-4a7a-948a-94d060da41ac",
   "metadata": {
    "tags": []
   },
   "outputs": [],
   "source": [
    "# make symmetric\n",
    "jaccard_data2 = jaccard_data.copy()\n",
    "jaccard_data2.rename({'rbp1': 'rbp2', 'rbp2':'rbp1'}, axis = 1, inplace = True)"
   ]
  },
  {
   "cell_type": "code",
   "execution_count": 17,
   "id": "59f30fa2-71cd-4a6f-aeb6-29b056ce95c6",
   "metadata": {
    "tags": []
   },
   "outputs": [],
   "source": [
    "jaccard_data = pd.concat([jaccard_data, jaccard_data2], axis = 0)"
   ]
  },
  {
   "cell_type": "code",
   "execution_count": 18,
   "id": "611c52ad-577e-4709-9442-d9383a1398ff",
   "metadata": {
    "tags": []
   },
   "outputs": [],
   "source": [
    "jaccard_pv = pd.pivot_table(jaccard_data, index = 'rbp1', columns = 'rbp2', values = 'jaccard')"
   ]
  },
  {
   "cell_type": "code",
   "execution_count": 19,
   "id": "5c70a764-eefd-46e8-99a4-3655f77ed19d",
   "metadata": {
    "tags": []
   },
   "outputs": [
    {
     "data": {
      "text/plain": [
       "<seaborn.matrix.ClusterGrid at 0x2b7ba883d8e0>"
      ]
     },
     "execution_count": 19,
     "metadata": {},
     "output_type": "execute_result"
    },
    {
     "data": {
      "image/png": "[encoded data removed]",
      "text/plain": [
       "<Figure size 216x216 with 4 Axes>"
      ]
     },
     "metadata": {
      "needs_background": "light"
     },
     "output_type": "display_data"
    }
   ],
   "source": [
    "sns.clustermap(jaccard_pv.fillna(1), cmap = 'Greys', figsize = (3,3))"
   ]
  },
  {
   "cell_type": "markdown",
   "id": "784fbb81-559e-40f0-b164-2d4f89ab1cc9",
   "metadata": {},
   "source": [
    "# Summary\n",
    "- We found PPI from eCLIP binding sites\n",
    "- Takeaway\n",
    "    - How to use scipy to compute distance\n",
    "    - How to send jobs in parallel with snakemake. NO MORE MANUAL QSUB.\n",
    "- Nitty Gritty details:\n",
    "    - [list comprehension](https://www.w3schools.com/python/python_lists_comprehension.asp) is a lazy way to write foor loop\n",
    "    - `dict()` and `zip`\n",
    "    - pandas hacks and tricks `pd.concat` `pd.pivot_table`.\n",
    "    - scipy hacks `pdist` `squareform`.\n",
    "    - pathlib `Path()` helps you concatenate folders and filename\n",
    "    \n",
    "# Homework\n",
    "- Agility in python and snakemake needs practice. Modify the snakemake file to:\n",
    "    - compute jaccard index ONLY in certain genomic regions such as 5'SS\n",
    "    - try your own CLIP data with a set of RBP of interest. It you don't have one download your favorite RBP from the ENCODE website\n",
    "- Now you know how to read snakemake rules. Go ahead a try to:\n",
    "    - try to read/dissect skipper snakemake rules `skipper.py` [here](https://github.com/YeoLab/skipper)\n",
    "    - How does skipper make the pipeline reusable to different eCLIP dataset. hint: `Skipper_config.py`\n",
    "    - How would you make `jaccard.smk` reusable to different sets of RBP and potentially eCLIPs in different folders?\n",
    "        - hint: [configs](https://snakemake.readthedocs.io/en/stable/tutorial/advanced.html#step-2-config-files)\n",
    "        - hint: [be modulized to mix and match](https://snakemake.readthedocs.io/en/stable/snakefiles/modularization.html) NEVER COPY AND PASTE! BAD!"
   ]
  },
  {
   "cell_type": "code",
   "execution_count": null,
   "id": "3da53a14-5010-4ce9-b4dc-cd0a103a170f",
   "metadata": {},
   "outputs": [],
   "source": []
  }
 ],
 "metadata": {
  "kernelspec": {
   "display_name": "Metadensity",
   "language": "python",
   "name": "metadensity"
  },
  "language_info": {
   "codemirror_mode": {
    "name": "ipython",
    "version": 3
   },
   "file_extension": ".py",
   "mimetype": "text/x-python",
   "name": "python",
   "nbconvert_exporter": "python",
   "pygments_lexer": "ipython3",
   "version": "3.9.16"
  }
 },
 "nbformat": 4,
 "nbformat_minor": 5
}
